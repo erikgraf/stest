{
 "cells": [
  {
   "cell_type": "markdown",
   "metadata": {
    "slideshow": {
     "slide_type": "slide"
    }
   },
   "source": [
    "## Statistische Hypothesen und Statistische Tests\n",
    "\n",
    "\n",
    "\n"
   ]
  },
  {
   "cell_type": "code",
   "execution_count": 131,
   "metadata": {
    "scrolled": true,
    "slideshow": {
     "slide_type": "skip"
    }
   },
   "outputs": [
    {
     "data": {
      "text/html": [
       "<script type=\"text/javascript\">window.PlotlyConfig = {MathJaxConfig: 'local'};</script><script type=\"text/javascript\">if (window.MathJax) {MathJax.Hub.Config({SVG: {font: \"STIX-Web\"}});}</script><script>requirejs.config({paths: { 'plotly': ['https://cdn.plot.ly/plotly-latest.min']},});if(!window._Plotly) {require(['plotly'],function(plotly) {window._Plotly=plotly;});}</script>"
      ],
      "text/vnd.plotly.v1+html": [
       "<script type=\"text/javascript\">window.PlotlyConfig = {MathJaxConfig: 'local'};</script><script type=\"text/javascript\">if (window.MathJax) {MathJax.Hub.Config({SVG: {font: \"STIX-Web\"}});}</script><script>requirejs.config({paths: { 'plotly': ['https://cdn.plot.ly/plotly-latest.min']},});if(!window._Plotly) {require(['plotly'],function(plotly) {window._Plotly=plotly;});}</script>"
      ]
     },
     "metadata": {},
     "output_type": "display_data"
    }
   ],
   "source": [
    "from __future__ import print_function\n",
    "import numpy as np\n",
    "import pandas as pd\n",
    "import scipy.stats as stats\n",
    "import statsmodels.api as sm\n",
    "import matplotlib.pyplot as plt\n",
    "import math as m\n",
    "from plotly.tools import FigureFactory as FF\n",
    "from plotly.offline import download_plotlyjs, init_notebook_mode, plot, iplot\n",
    "init_notebook_mode(connected=True)\n",
    "from ipywidgets import interact, interactive, fixed, interact_manual\n",
    "import ipywidgets as widgets\n",
    "import warnings\n",
    "warnings.filterwarnings(\"ignore\")"
   ]
  },
  {
   "cell_type": "code",
   "execution_count": 132,
   "metadata": {
    "slideshow": {
     "slide_type": "skip"
    }
   },
   "outputs": [
    {
     "data": {
      "text/html": [
       "<style>\n",
       ".rendered_html table, .rendered_html th, .rendered_html tr, .rendered_html td {\n",
       "     font-size: 90%;\n",
       "}\n",
       "</style>\n"
      ],
      "text/plain": [
       "<IPython.core.display.HTML object>"
      ]
     },
     "metadata": {},
     "output_type": "display_data"
    }
   ],
   "source": [
    "%%HTML\n",
    "<style>\n",
    ".rendered_html table, .rendered_html th, .rendered_html tr, .rendered_html td {\n",
    "     font-size: 90%;\n",
    "}\n",
    "</style>"
   ]
  },
  {
   "cell_type": "markdown",
   "metadata": {
    "slideshow": {
     "slide_type": "slide"
    }
   },
   "source": [
    "## Simulation eines A/B Tests\n",
    "\n",
    "Die folgenden Zellen erlauben uns die Durchführung eines A/B Tests zu simulieren. \n",
    "* Die Ausführung der übernächsten Zelle erzeugt zwei Stichproben basierend der vorgegebenen Wahrscheinlichkeit p und der Stichprobengrösse\n",
    "* Jede Ausführung per `STRG-ENTER` erzeugt neue zufällig verteilte Stichproben.\n",
    "\n",
    "Folgender Link erlaubt Ihnen Zugriff auf das verwendete Notebook: https://bit.ly/2UNNjdg\n"
   ]
  },
  {
   "cell_type": "markdown",
   "metadata": {
    "slideshow": {
     "slide_type": "slide"
    }
   },
   "source": [
    "## Erzeugung zufälliger Stichproben\n",
    "\n",
    "```python\n",
    "rsv_binom_A = stats.binom.rvs(size=1000, n=100, p=0.5)\n",
    "rsv_binom_B = stats.binom.rvs(size=1000, n=100, p=0.502)\n",
    "t_test = stats.ttest_ind(rvs_binom_A,rsv_binom_B)\n",
    "```"
   ]
  },
  {
   "cell_type": "code",
   "execution_count": 1107,
   "metadata": {
    "hide_input": true,
    "slideshow": {
     "slide_type": "fragment"
    }
   },
   "outputs": [
    {
     "name": "stdout",
     "output_type": "stream",
     "text": [
      "t-test p:0.0046\n",
      "proportional ztest p:0.0053\n",
      "Significant p-value found:0.005\n"
     ]
    },
    {
     "data": {
      "application/vnd.plotly.v1+json": {
       "config": {
        "linkText": "Export to plot.ly",
        "plotlyServerURL": "https://plot.ly",
        "showLink": true
       },
       "data": [
        {
         "colorscale": [
          [
           0,
           "#00083e"
          ],
          [
           0.5,
           "#ededee"
          ],
          [
           1,
           "#ffffff"
          ]
         ],
         "hoverinfo": "none",
         "opacity": 0.75,
         "showscale": false,
         "type": "heatmap",
         "uid": "fcc28d13-e6c4-4913-863b-dca5dcca6a3b",
         "z": [
          [
           0,
           0,
           0,
           0
          ],
          [
           0,
           0.5,
           0.5,
           0.5
          ],
          [
           0,
           1,
           1,
           1
          ]
         ]
        }
       ],
       "layout": {
        "annotations": [
         {
          "align": "left",
          "font": {
           "color": "#ffffff"
          },
          "showarrow": false,
          "text": "<b></b>",
          "x": -0.45,
          "xanchor": "left",
          "xref": "x",
          "y": 0,
          "yref": "y"
         },
         {
          "align": "left",
          "font": {
           "color": "#ffffff"
          },
          "showarrow": false,
          "text": "<b>total conversions</b>",
          "x": 0.55,
          "xanchor": "left",
          "xref": "x",
          "y": 0,
          "yref": "y"
         },
         {
          "align": "left",
          "font": {
           "color": "#ffffff"
          },
          "showarrow": false,
          "text": "<b>mean</b>",
          "x": 1.55,
          "xanchor": "left",
          "xref": "x",
          "y": 0,
          "yref": "y"
         },
         {
          "align": "left",
          "font": {
           "color": "#ffffff"
          },
          "showarrow": false,
          "text": "<b>std</b>",
          "x": 2.55,
          "xanchor": "left",
          "xref": "x",
          "y": 0,
          "yref": "y"
         },
         {
          "align": "left",
          "font": {
           "color": "#ffffff"
          },
          "showarrow": false,
          "text": "<b>Group A</b>",
          "x": -0.45,
          "xanchor": "left",
          "xref": "x",
          "y": 1,
          "yref": "y"
         },
         {
          "align": "left",
          "font": {
           "color": "#000000"
          },
          "showarrow": false,
          "text": "49720",
          "x": 0.55,
          "xanchor": "left",
          "xref": "x",
          "y": 1,
          "yref": "y"
         },
         {
          "align": "left",
          "font": {
           "color": "#000000"
          },
          "showarrow": false,
          "text": "49.72",
          "x": 1.55,
          "xanchor": "left",
          "xref": "x",
          "y": 1,
          "yref": "y"
         },
         {
          "align": "left",
          "font": {
           "color": "#000000"
          },
          "showarrow": false,
          "text": "4.82",
          "x": 2.55,
          "xanchor": "left",
          "xref": "x",
          "y": 1,
          "yref": "y"
         },
         {
          "align": "left",
          "font": {
           "color": "#ffffff"
          },
          "showarrow": false,
          "text": "<b>Group B</b>",
          "x": -0.45,
          "xanchor": "left",
          "xref": "x",
          "y": 2,
          "yref": "y"
         },
         {
          "align": "left",
          "font": {
           "color": "#000000"
          },
          "showarrow": false,
          "text": "50343",
          "x": 0.55,
          "xanchor": "left",
          "xref": "x",
          "y": 2,
          "yref": "y"
         },
         {
          "align": "left",
          "font": {
           "color": "#000000"
          },
          "showarrow": false,
          "text": "50.34",
          "x": 1.55,
          "xanchor": "left",
          "xref": "x",
          "y": 2,
          "yref": "y"
         },
         {
          "align": "left",
          "font": {
           "color": "#000000"
          },
          "showarrow": false,
          "text": "4.99",
          "x": 2.55,
          "xanchor": "left",
          "xref": "x",
          "y": 2,
          "yref": "y"
         }
        ],
        "height": 140,
        "margin": {
         "b": 0,
         "l": 0,
         "r": 0,
         "t": 0
        },
        "xaxis": {
         "dtick": 1,
         "gridwidth": 2,
         "showticklabels": false,
         "tick0": -0.5,
         "ticks": "",
         "zeroline": false
        },
        "yaxis": {
         "autorange": "reversed",
         "dtick": 1,
         "gridwidth": 2,
         "showticklabels": false,
         "tick0": 0.5,
         "ticks": "",
         "zeroline": false
        }
       }
      },
      "text/html": [
       "<div id=\"95df24ca-a7e9-49a9-92b4-05e5b5552d32\" style=\"height: 140px; width: 100%;\" class=\"plotly-graph-div\"></div><script type=\"text/javascript\">require([\"plotly\"], function(Plotly) { window.PLOTLYENV=window.PLOTLYENV || {};window.PLOTLYENV.BASE_URL=\"https://plot.ly\";Plotly.newPlot(\"95df24ca-a7e9-49a9-92b4-05e5b5552d32\", [{\"colorscale\": [[0, \"#00083e\"], [0.5, \"#ededee\"], [1, \"#ffffff\"]], \"hoverinfo\": \"none\", \"opacity\": 0.75, \"showscale\": false, \"z\": [[0, 0, 0, 0], [0, 0.5, 0.5, 0.5], [0, 1, 1, 1]], \"type\": \"heatmap\", \"uid\": \"fcc28d13-e6c4-4913-863b-dca5dcca6a3b\"}], {\"annotations\": [{\"align\": \"left\", \"font\": {\"color\": \"#ffffff\"}, \"showarrow\": false, \"text\": \"<b></b>\", \"x\": -0.45, \"xanchor\": \"left\", \"xref\": \"x\", \"y\": 0, \"yref\": \"y\"}, {\"align\": \"left\", \"font\": {\"color\": \"#ffffff\"}, \"showarrow\": false, \"text\": \"<b>total conversions</b>\", \"x\": 0.55, \"xanchor\": \"left\", \"xref\": \"x\", \"y\": 0, \"yref\": \"y\"}, {\"align\": \"left\", \"font\": {\"color\": \"#ffffff\"}, \"showarrow\": false, \"text\": \"<b>mean</b>\", \"x\": 1.55, \"xanchor\": \"left\", \"xref\": \"x\", \"y\": 0, \"yref\": \"y\"}, {\"align\": \"left\", \"font\": {\"color\": \"#ffffff\"}, \"showarrow\": false, \"text\": \"<b>std</b>\", \"x\": 2.55, \"xanchor\": \"left\", \"xref\": \"x\", \"y\": 0, \"yref\": \"y\"}, {\"align\": \"left\", \"font\": {\"color\": \"#ffffff\"}, \"showarrow\": false, \"text\": \"<b>Group A</b>\", \"x\": -0.45, \"xanchor\": \"left\", \"xref\": \"x\", \"y\": 1, \"yref\": \"y\"}, {\"align\": \"left\", \"font\": {\"color\": \"#000000\"}, \"showarrow\": false, \"text\": \"49720\", \"x\": 0.55, \"xanchor\": \"left\", \"xref\": \"x\", \"y\": 1, \"yref\": \"y\"}, {\"align\": \"left\", \"font\": {\"color\": \"#000000\"}, \"showarrow\": false, \"text\": \"49.72\", \"x\": 1.55, \"xanchor\": \"left\", \"xref\": \"x\", \"y\": 1, \"yref\": \"y\"}, {\"align\": \"left\", \"font\": {\"color\": \"#000000\"}, \"showarrow\": false, \"text\": \"4.82\", \"x\": 2.55, \"xanchor\": \"left\", \"xref\": \"x\", \"y\": 1, \"yref\": \"y\"}, {\"align\": \"left\", \"font\": {\"color\": \"#ffffff\"}, \"showarrow\": false, \"text\": \"<b>Group B</b>\", \"x\": -0.45, \"xanchor\": \"left\", \"xref\": \"x\", \"y\": 2, \"yref\": \"y\"}, {\"align\": \"left\", \"font\": {\"color\": \"#000000\"}, \"showarrow\": false, \"text\": \"50343\", \"x\": 0.55, \"xanchor\": \"left\", \"xref\": \"x\", \"y\": 2, \"yref\": \"y\"}, {\"align\": \"left\", \"font\": {\"color\": \"#000000\"}, \"showarrow\": false, \"text\": \"50.34\", \"x\": 1.55, \"xanchor\": \"left\", \"xref\": \"x\", \"y\": 2, \"yref\": \"y\"}, {\"align\": \"left\", \"font\": {\"color\": \"#000000\"}, \"showarrow\": false, \"text\": \"4.99\", \"x\": 2.55, \"xanchor\": \"left\", \"xref\": \"x\", \"y\": 2, \"yref\": \"y\"}], \"height\": 140, \"margin\": {\"b\": 0, \"l\": 0, \"r\": 0, \"t\": 0}, \"xaxis\": {\"dtick\": 1, \"gridwidth\": 2, \"showticklabels\": false, \"tick0\": -0.5, \"ticks\": \"\", \"zeroline\": false}, \"yaxis\": {\"autorange\": \"reversed\", \"dtick\": 1, \"gridwidth\": 2, \"showticklabels\": false, \"tick0\": 0.5, \"ticks\": \"\", \"zeroline\": false}}, {\"showLink\": true, \"linkText\": \"Export to plot.ly\", \"plotlyServerURL\": \"https://plot.ly\"})});</script><script type=\"text/javascript\">window.addEventListener(\"resize\", function(){window._Plotly.Plots.resize(document.getElementById(\"95df24ca-a7e9-49a9-92b4-05e5b5552d32\"));});</script>"
      ],
      "text/vnd.plotly.v1+html": [
       "<div id=\"95df24ca-a7e9-49a9-92b4-05e5b5552d32\" style=\"height: 140px; width: 100%;\" class=\"plotly-graph-div\"></div><script type=\"text/javascript\">require([\"plotly\"], function(Plotly) { window.PLOTLYENV=window.PLOTLYENV || {};window.PLOTLYENV.BASE_URL=\"https://plot.ly\";Plotly.newPlot(\"95df24ca-a7e9-49a9-92b4-05e5b5552d32\", [{\"colorscale\": [[0, \"#00083e\"], [0.5, \"#ededee\"], [1, \"#ffffff\"]], \"hoverinfo\": \"none\", \"opacity\": 0.75, \"showscale\": false, \"z\": [[0, 0, 0, 0], [0, 0.5, 0.5, 0.5], [0, 1, 1, 1]], \"type\": \"heatmap\", \"uid\": \"fcc28d13-e6c4-4913-863b-dca5dcca6a3b\"}], {\"annotations\": [{\"align\": \"left\", \"font\": {\"color\": \"#ffffff\"}, \"showarrow\": false, \"text\": \"<b></b>\", \"x\": -0.45, \"xanchor\": \"left\", \"xref\": \"x\", \"y\": 0, \"yref\": \"y\"}, {\"align\": \"left\", \"font\": {\"color\": \"#ffffff\"}, \"showarrow\": false, \"text\": \"<b>total conversions</b>\", \"x\": 0.55, \"xanchor\": \"left\", \"xref\": \"x\", \"y\": 0, \"yref\": \"y\"}, {\"align\": \"left\", \"font\": {\"color\": \"#ffffff\"}, \"showarrow\": false, \"text\": \"<b>mean</b>\", \"x\": 1.55, \"xanchor\": \"left\", \"xref\": \"x\", \"y\": 0, \"yref\": \"y\"}, {\"align\": \"left\", \"font\": {\"color\": \"#ffffff\"}, \"showarrow\": false, \"text\": \"<b>std</b>\", \"x\": 2.55, \"xanchor\": \"left\", \"xref\": \"x\", \"y\": 0, \"yref\": \"y\"}, {\"align\": \"left\", \"font\": {\"color\": \"#ffffff\"}, \"showarrow\": false, \"text\": \"<b>Group A</b>\", \"x\": -0.45, \"xanchor\": \"left\", \"xref\": \"x\", \"y\": 1, \"yref\": \"y\"}, {\"align\": \"left\", \"font\": {\"color\": \"#000000\"}, \"showarrow\": false, \"text\": \"49720\", \"x\": 0.55, \"xanchor\": \"left\", \"xref\": \"x\", \"y\": 1, \"yref\": \"y\"}, {\"align\": \"left\", \"font\": {\"color\": \"#000000\"}, \"showarrow\": false, \"text\": \"49.72\", \"x\": 1.55, \"xanchor\": \"left\", \"xref\": \"x\", \"y\": 1, \"yref\": \"y\"}, {\"align\": \"left\", \"font\": {\"color\": \"#000000\"}, \"showarrow\": false, \"text\": \"4.82\", \"x\": 2.55, \"xanchor\": \"left\", \"xref\": \"x\", \"y\": 1, \"yref\": \"y\"}, {\"align\": \"left\", \"font\": {\"color\": \"#ffffff\"}, \"showarrow\": false, \"text\": \"<b>Group B</b>\", \"x\": -0.45, \"xanchor\": \"left\", \"xref\": \"x\", \"y\": 2, \"yref\": \"y\"}, {\"align\": \"left\", \"font\": {\"color\": \"#000000\"}, \"showarrow\": false, \"text\": \"50343\", \"x\": 0.55, \"xanchor\": \"left\", \"xref\": \"x\", \"y\": 2, \"yref\": \"y\"}, {\"align\": \"left\", \"font\": {\"color\": \"#000000\"}, \"showarrow\": false, \"text\": \"50.34\", \"x\": 1.55, \"xanchor\": \"left\", \"xref\": \"x\", \"y\": 2, \"yref\": \"y\"}, {\"align\": \"left\", \"font\": {\"color\": \"#000000\"}, \"showarrow\": false, \"text\": \"4.99\", \"x\": 2.55, \"xanchor\": \"left\", \"xref\": \"x\", \"y\": 2, \"yref\": \"y\"}], \"height\": 140, \"margin\": {\"b\": 0, \"l\": 0, \"r\": 0, \"t\": 0}, \"xaxis\": {\"dtick\": 1, \"gridwidth\": 2, \"showticklabels\": false, \"tick0\": -0.5, \"ticks\": \"\", \"zeroline\": false}, \"yaxis\": {\"autorange\": \"reversed\", \"dtick\": 1, \"gridwidth\": 2, \"showticklabels\": false, \"tick0\": 0.5, \"ticks\": \"\", \"zeroline\": false}}, {\"showLink\": true, \"linkText\": \"Export to plot.ly\", \"plotlyServerURL\": \"https://plot.ly\"})});</script><script type=\"text/javascript\">window.addEventListener(\"resize\", function(){window._Plotly.Plots.resize(document.getElementById(\"95df24ca-a7e9-49a9-92b4-05e5b5552d32\"));});</script>"
      ]
     },
     "metadata": {},
     "output_type": "display_data"
    }
   ],
   "source": [
    "rvs_binom_A = stats.binom.rvs(size=1000, n=100, p=0.5)\n",
    "rvs_binom_B = stats.binom.rvs(size=1000, n=100, p=0.502)\n",
    "\n",
    "ttest = stats.ttest_ind(rvs_binom_A,rvs_binom_B)\n",
    "z1, p_value1 = sm.stats.proportions_ztest([rvs_binom_A.sum(), rvs_binom_B.sum()], [100000, 100000])\n",
    "\n",
    "print(\"t-test p:\" + '{:.4f}'.format(ttest.pvalue))\n",
    "print(\"proportional ztest p:\" + '{:.4f}'.format(p_value1))\n",
    "if p_value1 < 0.05:\n",
    "    print('Significant p-value found:' + '{:.3f}'.format(p_value1))\n",
    "    matrix_twosample = [\n",
    "    ['', 'total conversions', 'mean', 'std'],\n",
    "    ['Group A', '{:.0f}'.format(rvs_binom_A.sum()), '{:.2f}'.format(rvs_binom_A.mean()), '{:.2f}'.format(rvs_binom_A.std())],\n",
    "    ['Group B', '{:.0f}'.format(rvs_binom_B.sum()), '{:.2f}'.format(rvs_binom_B.mean()), '{:.2f}'.format(rvs_binom_B.std())]\n",
    "    ]\n",
    "    twosample_table = FF.create_table(matrix_twosample, index=True)\n",
    "    iplot(twosample_table, filename='twosample-table')"
   ]
  },
  {
   "cell_type": "markdown",
   "metadata": {
    "slideshow": {
     "slide_type": "slide"
    }
   },
   "source": [
    "## Graph Generierung der Stichproben A und B\n",
    "\n",
    "Führen Sie die folgende Zelle mit `STRG-ENTER` aus um die zuletzt erzeugten Stichproben A und B als Graph abzubilden."
   ]
  },
  {
   "cell_type": "code",
   "execution_count": 1108,
   "metadata": {
    "slideshow": {
     "slide_type": "fragment"
    }
   },
   "outputs": [
    {
     "data": {
      "text/plain": [
       "<matplotlib.axes._subplots.AxesSubplot at 0x7fa7623b1470>"
      ]
     },
     "execution_count": 1108,
     "metadata": {},
     "output_type": "execute_result"
    },
    {
     "data": {
      "image/png": "[encoded data removed]",
      "text/plain": [
       "<Figure size 1008x576 with 1 Axes>"
      ]
     },
     "metadata": {
      "needs_background": "light"
     },
     "output_type": "display_data"
    }
   ],
   "source": [
    "fig, ax = plt.subplots(figsize=(14,8))\n",
    "pd.Series(rvs_binom_A).plot(kind=\"hist\", bins = 100, alpha=0.25, color = 'blue')\n",
    "pd.Series(rvs_binom_B).plot(kind=\"hist\", bins = 100, alpha=0.25, color = 'orange')"
   ]
  },
  {
   "cell_type": "markdown",
   "metadata": {
    "slideshow": {
     "slide_type": "slide"
    }
   },
   "source": [
    "## Berechnung der Test Statistik $t$\n",
    "\n",
    "$t = \\frac{\\text{Differenz der Stichprobenmittelwerte}}{\\text{Standardfehler der Differenz}}$\n",
    "\n",
    "Für unterschiedliche Varianz der Stichproben:\n",
    "\n",
    "$t = \\frac{\\bar{x_A} - \\bar{x_B}}{\\sqrt{\\frac{s_A^2}{n_A} + \\frac{s_B^2}{n_B}}}$\n",
    "\n"
   ]
  },
  {
   "cell_type": "markdown",
   "metadata": {
    "slideshow": {
     "slide_type": "slide"
    }
   },
   "source": [
    "| Gruppe | N       | mittelwert | standardabweichung |\n",
    "|--------|---------|------------|--------------------|\n",
    "| A      | 100.000 | 50,31      | 5,04               |\n",
    "| B      | 100.000 | 49,75      | 4,88               |\n",
    "\n",
    "$t = \\frac{\\bar{x_A} - \\bar{x_B}}{\\sqrt{\\frac{s_A^2}{n_A} + \\frac{s_B^2}{n_B}}}$\n"
   ]
  },
  {
   "cell_type": "code",
   "execution_count": 1046,
   "metadata": {
    "slideshow": {
     "slide_type": "fragment"
    }
   },
   "outputs": [
    {
     "data": {
      "text/plain": [
       "-2.5242645609111762"
      ]
     },
     "execution_count": 1046,
     "metadata": {},
     "output_type": "execute_result"
    }
   ],
   "source": [
    "(49.75-50.31)/m.sqrt(m.pow(5.04,2)/1000+m.pow(4.88,2)/1000)\n"
   ]
  },
  {
   "cell_type": "markdown",
   "metadata": {
    "slideshow": {
     "slide_type": "fragment"
    }
   },
   "source": [
    "Welcher p-Wert ist verbunden mit der Test-Statistik.\n",
    "Ablesen in einer Tabelle für T-Test Statistiken:\n",
    "\n",
    "https://www.itl.nist.gov/div898/handbook/eda/section3/eda3672.htm\n",
    "\n",
    "Übung: Generieren Sie weitere zufällig erhobene Stichproben und berechnen Sie die t-Statistik."
   ]
  },
  {
   "cell_type": "markdown",
   "metadata": {
    "slideshow": {
     "slide_type": "slide"
    }
   },
   "source": [
    "## Typ I und Typ II Fehler\n",
    "\n",
    "### Typ I Fehler (engl. \"False Positive\"):\n",
    "\n",
    "* Typ I Fehler tritt ein wenn wir eine wahre Nullhypothese verwerfen (irrtümlicher Glaube an einen Zusammenhang, der tatsächlich nicht existiert).\n",
    "* Die Wahrscheinlichkeit für einen Typ I Fehler entspricht $\\alpha$. Die Akzeptanz von $\\alpha = 0.05$ entspricht einer Wahrscheinlichkeit von $5\\%$ einen Typ I Fehler zu begehen."
   ]
  },
  {
   "cell_type": "markdown",
   "metadata": {
    "slideshow": {
     "slide_type": "slide"
    }
   },
   "source": [
    "###  Typ II Fehler (engl. \"False Negative\"):\n",
    "    \n",
    "* Typ II Fehler Wahrscheinlichkeit eine tatsächlich falsche Nullhypothese nicht zu verwerfen (irrtümlicher Glaube, dass kein Zusammenhang existiert, wo tatsächlich einer besteht)\n",
    "* Die Wahrscheinlichkeit für einen Typ II Fehler entspricht $P(Typ2Fehler|Ha)=\\beta$"
   ]
  },
  {
   "cell_type": "markdown",
   "metadata": {
    "slideshow": {
     "slide_type": "slide"
    }
   },
   "source": [
    "## Zusammenhang Zwischen Typ I, Typ II und Signifikanzniveau $\\alpha$\n",
    "\n",
    "\n"
   ]
  },
  {
   "cell_type": "code",
   "execution_count": 839,
   "metadata": {
    "hide_input": true,
    "slideshow": {
     "slide_type": "fragment"
    }
   },
   "outputs": [
    {
     "data": {
      "text/plain": [
       "Text(0, 0.02, 'Typ II Fehler')"
      ]
     },
     "execution_count": 839,
     "metadata": {},
     "output_type": "execute_result"
    },
    {
     "data": {
      "image/png": "[encoded data removed]",
      "text/plain": [
       "<Figure size 864x720 with 1 Axes>"
      ]
     },
     "metadata": {
      "needs_background": "light"
     },
     "output_type": "display_data"
    }
   ],
   "source": [
    "plt.figure(figsize=(12,10))\n",
    "\n",
    "plt.fill_between(x=np.arange(-4,-2,0.01), \n",
    "                 y1= stats.norm.pdf(np.arange(-4,-2,0.01)) ,\n",
    "                 facecolor='red',\n",
    "                 alpha=0.35)\n",
    "\n",
    "plt.fill_between(x=np.arange(-2,2,0.01), \n",
    "                 y1= stats.norm.pdf(np.arange(-2,2,0.01)) ,\n",
    "                 facecolor='black',\n",
    "                 alpha=0.35)\n",
    "\n",
    "plt.fill_between(x=np.arange(2,4,0.01), \n",
    "                 y1= stats.norm.pdf(np.arange(2,4,0.01)) ,\n",
    "                 facecolor='red',\n",
    "                 alpha=0.5)\n",
    "\n",
    "plt.fill_between(x=np.arange(-4,-2,0.01), \n",
    "                 y1= stats.norm.pdf(np.arange(-4,-2,0.01),loc=3, scale=2) ,\n",
    "                 facecolor='black',\n",
    "                 alpha=0.35)\n",
    "\n",
    "plt.fill_between(x=np.arange(-2,2,0.01), \n",
    "                 y1= stats.norm.pdf(np.arange(-2,2,0.01),loc=3, scale=2) ,\n",
    "                 facecolor='blue',\n",
    "                 alpha=0.35)\n",
    "\n",
    "plt.fill_between(x=np.arange(2,10,0.01), \n",
    "                 y1= stats.norm.pdf(np.arange(2,10,0.01),loc=3, scale=2),\n",
    "                 facecolor='black',\n",
    "                 alpha=0.35)\n",
    "\n",
    "plt.text(x=-0.7, y=0.15, s= \"Nullhypothse\")\n",
    "plt.text(x=2.5, y=0.13, s= \"Alternativhypothese\")\n",
    "plt.text(x=2.1, y=0.01, s= \"Typ I Fehler\")\n",
    "plt.text(x=-3.2, y=0.01, s= \"Typ I Fehler\")\n",
    "plt.text(x=0, y=0.02, s= \"Typ II Fehler\")"
   ]
  },
  {
   "cell_type": "markdown",
   "metadata": {
    "slideshow": {
     "slide_type": "slide"
    }
   },
   "source": [
    "## Welche Faktoren beeinflussen den Signifikanztest\n",
    "\n",
    "* Effekt (Grösse der Differenz der Mittelwerte)\n",
    "* Stichprobengrösse\n",
    "\n",
    "$t = \\frac{\\bar{x_A} - \\bar{x_B}}{\\sqrt{\\frac{s_A^2}{n_A} + \\frac{s_B^2}{n_B}}}$\n",
    "\n"
   ]
  },
  {
   "cell_type": "code",
   "execution_count": 836,
   "metadata": {
    "hide_input": true,
    "slideshow": {
     "slide_type": "slide"
    }
   },
   "outputs": [
    {
     "data": {
      "application/vnd.jupyter.widget-view+json": {
       "model_id": "29cead5149f74c7da4b2c7c93d6f6299",
       "version_major": 2,
       "version_minor": 0
      },
      "text/plain": [
       "interactive(children=(IntSlider(value=10, continuous_update=False, description='samples', max=1000, min=10, st…"
      ]
     },
     "metadata": {},
     "output_type": "display_data"
    },
    {
     "data": {
      "text/plain": [
       "<function __main__.plot_pmf(samples)>"
      ]
     },
     "execution_count": 836,
     "metadata": {},
     "output_type": "execute_result"
    }
   ],
   "source": [
    "def plot_pmf(samples):\n",
    "    fig, ax = plt.subplots(figsize=(12,6)) \n",
    "    xA = np.linspace(1, samples, samples)\n",
    "    yA = stats.binom(samples, 0.50).pmf(xA)\n",
    "    ax.bar(xA, yA, alpha=0.5)\n",
    "    xB = np.linspace(1, samples, samples)\n",
    "    yB = stats.binom(samples, 0.6).pmf(xB)\n",
    "    ax.bar(xB, yB, alpha=0.4)\n",
    "    plt.xlabel('converted')\n",
    "    plt.ylabel('probability')\n",
    "    \n",
    "interact(plot_pmf,  samples=widgets.IntSlider(min=10,max=1000,step=100,value=10, continuous_update=False))"
   ]
  },
  {
   "cell_type": "markdown",
   "metadata": {
    "slideshow": {
     "slide_type": "slide"
    }
   },
   "source": [
    "## p-Wert ist nicht die Wahrscheinlichkeit der Nullhypothese\n",
    "\n",
    "Es ist eine berechnete Wahrscheinlichkeit basierend auf der Verteilung von Werten.\n",
    "\n",
    "Dies wird auch illustriert durch den Einsatz von statistischen Tests in Natural Language Processing zur Bewertung der Wahrscheinlichkeiten des gemeinsamen Auftretens von Wörtern.\n",
    "\n"
   ]
  },
  {
   "cell_type": "markdown",
   "metadata": {
    "slideshow": {
     "slide_type": "slide"
    }
   },
   "source": [
    "## Statistische Signifikanz != Praktische Signifikanz\n",
    "\n",
    "Mark Sanderson SIGIR 2010: Do User Preferences and Evaluation Measures Line Up?[5]\n",
    "\n",
    "* \"P@10 poorly models user preferences\"\n",
    "* Limited impact of small $\\Delta$ of measures\n",
    "\n",
    "\n",
    "\n"
   ]
  },
  {
   "cell_type": "markdown",
   "metadata": {
    "slideshow": {
     "slide_type": "slide"
    }
   },
   "source": [
    "## Statistische Signifikanz != Praktische Signifikanz\n",
    "\n",
    "Auch andere Faktoren wie der praktische \"Impact\" und Kosten sind hier zu berücksichtigen.\n",
    "\n",
    "* Kosten von Keywords bei online Werbung\n",
    "* Umsetzbarkeit, Skalierbarkeit, Generalisierbarkeit\n"
   ]
  },
  {
   "cell_type": "markdown",
   "metadata": {
    "slideshow": {
     "slide_type": "slide"
    }
   },
   "source": [
    "## Hypothesen\n",
    "<HTML><img src=\"AblaufEnde.png\" width=\"812\"/><HTML/>"
   ]
  },
  {
   "cell_type": "markdown",
   "metadata": {
    "slideshow": {
     "slide_type": "slide"
    }
   },
   "source": [
    "## Statistisches Testen - Cutting Edge?\n",
    "\n",
    "Wissenschaftliche Studie bei ACL 2018.\n",
    "\n",
    "* ACL ist eine der bedeutendsten Konferenzen im Bereich NLP\n",
    "* Studie untersucht die Nutzung statistischer Tests akzeptierter Papers bei ACL 2017\n"
   ]
  },
  {
   "cell_type": "markdown",
   "metadata": {
    "slideshow": {
     "slide_type": "slide"
    }
   },
   "source": [
    "## Statistisches Testen - Cutting Edge?\n",
    "\n",
    "ACL 2018 Paper: The Hitchhiker’s Guide to Testing Statistical Significance in Natural\n",
    "Language Processing [6]."
   ]
  },
  {
   "cell_type": "markdown",
   "metadata": {
    "slideshow": {
     "slide_type": "fragment"
    }
   },
   "source": [
    "| papers ACL 2017 | papers that do report sign. | papers that do not report sign. |\n",
    "|-----------------|---------------------------------|---------------------------------|\n",
    "| 180             | 63                              | 117                             |\n",
    "| 100%            | 35%                             | 65%    |                             "
   ]
  },
  {
   "cell_type": "markdown",
   "metadata": {
    "slideshow": {
     "slide_type": "fragment"
    }
   },
   "source": [
    "| papers that reported  | use wrong test | do not mention which test  | papers that correctly applied sign. |\n",
    "|-----------------------|----------------|----------------------------|-------------------------------------|\n",
    "| 63                    | 6              | 21                         | 36                                  |\n",
    "| 100%                  | 9,5%           | 33,3%                      | 20% of total conf.                  |"
   ]
  },
  {
   "cell_type": "markdown",
   "metadata": {
    "slideshow": {
     "slide_type": "slide"
    }
   },
   "source": [
    "## Praktischer Nutzen\n",
    "\n",
    "Praktisch ist die Umsetzung nicht in allen Situationen moeglich.\n",
    "* Messbarkeit\n",
    "* Kosten von Messungen\n",
    "* Bereitschaft fuer Messungen\n",
    "\n",
    "\n"
   ]
  },
  {
   "cell_type": "markdown",
   "metadata": {
    "slideshow": {
     "slide_type": "slide"
    }
   },
   "source": [
    "## Praktischer Nutzen\n",
    "\n",
    "Es ist immer besser die Statistiken der Stichproben in Erwägung zu ziehen\n",
    "* Streuung von Stichproben \n",
    "* Statistiken der Stichprobe\n",
    "* Design der Erhebung\n",
    "* Auch keine Ablehnung der Nullhypothese ist ein wertvolles Ergebnis"
   ]
  },
  {
   "cell_type": "markdown",
   "metadata": {
    "slideshow": {
     "slide_type": "slide"
    }
   },
   "source": [
    "## Praktischer Nutzen\n",
    "\n",
    "Bedeutung statischer Tests ist enorm gestiegen\n",
    "* A/B Testing Praxis\n",
    "* ACL Paper als Indikation\n",
    "* Teil der Veränderung des Machine Learning and AI\n"
   ]
  },
  {
   "cell_type": "markdown",
   "metadata": {
    "slideshow": {
     "slide_type": "slide"
    }
   },
   "source": [
    "## Referenzen\n",
    "* [1] History of A/B Testing: https://www.wired.com/2012/04/ff-abtesting/\n",
    "* [2] Summary of A/B Testing: https://hbr.org/2017/09/the-surprising-power-of-online-experiments\n",
    "* [3] Produkt-integriertes A/B Testing\n",
    "     * https://developer.amazon.com/it/blogs/tag/AB+Testing\n",
    "     * https://www.facebook.com/business/help/296679177443789\n",
    "     * https://www.facebook.com/business/help/165866720571247?helpref=faq_content#\n",
    "* [4] Beispiele für in-house A/B Testing\n",
    "     * https://medium.com/wolfgangbremer/amazon-is-the-king-of-a-b-testing-f46008e3b528\n",
    "     * https://ai.stanford.edu/~ronnyk/ExPThinkWeek2009Public.pdf\n",
    "* [5] http://marksanderson.org/publications/my_papers/SIGIR2010.pdf\n",
    "* [6] https://ie.technion.ac.il/~roiri/papers/ACL-2018-sig-cr.pdf\n",
    "    \n"
   ]
  }
 ],
 "metadata": {
  "celltoolbar": "Slideshow",
  "kernelspec": {
   "display_name": "Python 3",
   "language": "python",
   "name": "python3"
  },
  "language_info": {
   "codemirror_mode": {
    "name": "ipython",
    "version": 3
   },
   "file_extension": ".py",
   "mimetype": "text/x-python",
   "name": "python",
   "nbconvert_exporter": "python",
   "pygments_lexer": "ipython3",
   "version": "3.6.6"
  }
 },
 "nbformat": 4,
 "nbformat_minor": 2
}
